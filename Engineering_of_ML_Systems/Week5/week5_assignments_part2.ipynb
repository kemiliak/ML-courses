{
 "cells": [
  {
   "cell_type": "markdown",
   "metadata": {
    "deletable": false,
    "editable": false,
    "nbgrader": {
     "cell_type": "markdown",
     "checksum": "1113cd77d69131b417bedd0be22c838e",
     "grade": false,
     "grade_id": "cell-44cd2a11e7f11379",
     "locked": true,
     "schema_version": 3,
     "solution": false,
     "task": false
    }
   },
   "source": [
    "# Week5 Assignments (part2)\n",
    "This is the second part of this week's assignments. In this part, you will load the KFP components that you created in the first part of the assignments and use them to create a KFP pipeline."
   ]
  },
  {
   "cell_type": "code",
   "execution_count": 1,
   "metadata": {
    "deletable": false,
    "editable": false,
    "nbgrader": {
     "cell_type": "code",
     "checksum": "805f386e531b905a7e8f34f4c8da7c8a",
     "grade": false,
     "grade_id": "cell-457e24db6efe5e7b",
     "locked": true,
     "schema_version": 3,
     "solution": false,
     "task": false
    }
   },
   "outputs": [
    {
     "name": "stderr",
     "output_type": "stream",
     "text": [
      "/home/kaisaeko/anaconda3/envs/mlops_eng2/lib/python3.11/site-packages/kfp/client/client.py:158: FutureWarning: This client only works with Kubeflow Pipeline v2.0.0-beta.2 and later versions.\n",
      "  warnings.warn(\n"
     ]
    }
   ],
   "source": [
    "import kfp\n",
    "import kfp.dsl as dsl \n",
    "import kfp.components as components\n",
    "import kfp.kubernetes as kubernetes\n",
    "import os\n",
    "from utils.send_requests import send_requests\n",
    "\n",
    "# Connect to KFP client, remember to ensure you're using the correct kubectl context\n",
    "kfp_client = kfp.Client(host=None)"
   ]
  },
  {
   "cell_type": "markdown",
   "metadata": {
    "deletable": false,
    "editable": false,
    "nbgrader": {
     "cell_type": "markdown",
     "checksum": "ec5221ba8686f02cd169a619f4e067db",
     "grade": false,
     "grade_id": "cell-3bbc4d0ca745cdea",
     "locked": true,
     "schema_version": 3,
     "solution": false,
     "task": false
    }
   },
   "source": [
    "Let's first load the KFP components from their YAML files you created in the first part of the assignments."
   ]
  },
  {
   "cell_type": "code",
   "execution_count": 2,
   "metadata": {
    "deletable": false,
    "editable": false,
    "nbgrader": {
     "cell_type": "code",
     "checksum": "4a87062761e2e38842aa7d91645ee445",
     "grade": false,
     "grade_id": "cell-c7f8785565d51cd1",
     "locked": true,
     "schema_version": 3,
     "solution": false,
     "task": false
    }
   },
   "outputs": [],
   "source": [
    "pull_data = components.load_component_from_file(os.path.join(\"components\", \"pull_data.yaml\"))\n",
    "preprocess_data = components.load_component_from_file(os.path.join(\"components\", \"preprocess_data.yaml\"))\n",
    "hpo = components.load_component_from_file(os.path.join(\"components\", \"hpo.yaml\"))\n",
    "train = components.load_component_from_file(os.path.join(\"components\", \"train.yaml\"))\n",
    "deploy_model = components.load_component_from_file(os.path.join(\"components\", \"deploy_model.yaml\"))"
   ]
  },
  {
   "cell_type": "markdown",
   "metadata": {
    "deletable": false,
    "editable": false,
    "nbgrader": {
     "cell_type": "markdown",
     "checksum": "769509cf9347a2206761c96ebcc0ce92",
     "grade": false,
     "grade_id": "cell-436ea9b2213571b7",
     "locked": true,
     "schema_version": 3,
     "solution": false,
     "task": false
    }
   },
   "source": [
    "\n",
    "## Assignment 2:  Create a KFP pipeline (2 points)\n",
    "You need to create a KFP pipeline using all the KFP components you created. \n",
    "\n",
    "The KFP components should perform their tasks in the following order: \n",
    "\n",
    "<img src=\"./images/kfp-assignment.png\" />\n",
    "\n",
    "(Other inputs needed by the components are provided as arguments of the `pipeline` function.)\n",
    "\n",
    "The **train** and **deloy_model** components should only perform their tasks if the best MAE found by the **hpo** component is strictly lower than a given threshold. In other words, the pipeline will stop after the HPO task if the best MAE is larger than the given threshold. You can use [dsl.Condition](https://kubeflow-pipelines.readthedocs.io/en/sdk-2.0.1/source/dsl.html#kfp.dsl.Condition) to manage conditions in Kubeflow Pipelines. \n",
    "\n",
    "**Hints**: \n",
    "- You need to assign the needed credentials to the model training task so that the task can upload artifacts to MLflow's artifact store (MinIO). (Please check the tutorial for more details.) \n",
    "- If a component has multiple Parameter outputs, then a single output can be accessed by `task.outputs[output_name]`."
   ]
  },
  {
   "cell_type": "code",
   "execution_count": 3,
   "metadata": {
    "deletable": false,
    "nbgrader": {
     "cell_type": "code",
     "checksum": "05f8cf3167cc4fc39a29eb3f3c1c82ee",
     "grade": false,
     "grade_id": "cell-cb84cc1160939dde",
     "locked": false,
     "schema_version": 3,
     "solution": true,
     "task": false
    }
   },
   "outputs": [],
   "source": [
    "@dsl.pipeline(\n",
    "    name=\"bike-demand-pipeline\",\n",
    "    description=\"An example pipeline that deploys a model for bike demanding prediction\",\n",
    ")\n",
    "def pipeline(\n",
    "    url: str,\n",
    "    random_seed: int,\n",
    "    hpo_trials: int,\n",
    "    mae_threshold: float,\n",
    "    mlflow_experiment_name: str,\n",
    "    mlflow_tracking_uri: str,\n",
    "    mlflow_s3_endpoint_url: str,\n",
    "    model_name: str,\n",
    "):\n",
    "    \"\"\"\n",
    "    Args:\n",
    "        url: URL for downloading the dataset\n",
    "        random_seed: Random seed used for model training and the TPESampler in HPO\n",
    "        hpo_trials: The number of trials that the HPO component should perform\n",
    "        mae_threshold: The threshold for the MAE metric. If the best MAE found by the HPO is greater than this threshold, the train and deploy_model components will be skipped\n",
    "        mlflow_experiment_name: Name of the MLflow experiment\n",
    "        mlflow_tracking_uri: URI of MLflow's tracking server\n",
    "        mlflow_s3_endpoint_url: URL of MLflow's artifact store\n",
    "        model_name: The name of the KServe inference service. It's also used as the model's artifact path\n",
    "    \"\"\"\n",
    "    ### START CODE HERE\n",
    "    pull_task = pull_data(url=url)\n",
    "    preprocess_task = preprocess_data(data=pull_task.outputs[\"data\"])\n",
    "\n",
    "   \n",
    "    hyperparams = hpo(train_x_csv=preprocess_task.outputs[\"train_x_csv\"],\n",
    "        train_y_csv=preprocess_task.outputs[\"train_y_csv\"],\n",
    "        test_x_csv=preprocess_task.outputs[\"test_x_csv\"],\n",
    "        test_y_csv=preprocess_task.outputs[\"test_y_csv\"],\n",
    "        hpo_trials=hpo_trials,\n",
    "        random_seed=random_seed,\n",
    "        )\n",
    "\n",
    "    with dsl.Condition(hyperparams.outputs[\"best_mae\"] <= mae_threshold):\n",
    "        train_task = train(\n",
    "            train_x_csv=preprocess_task.outputs[\"train_x_csv\"],\n",
    "            train_y_csv=preprocess_task.outputs[\"train_y_csv\"],\n",
    "            test_x_csv=preprocess_task.outputs[\"test_x_csv\"],\n",
    "            test_y_csv=preprocess_task.outputs[\"test_y_csv\"],\n",
    "            mlflow_experiment_name=mlflow_experiment_name,\n",
    "            mlflow_tracking_uri=mlflow_tracking_uri,\n",
    "            mlflow_s3_endpoint_url=mlflow_s3_endpoint_url,\n",
    "            model_artifact_path=model_name,\n",
    "            hyperparams=hyperparams.outputs[\"hyperparams\"],\n",
    "        )\n",
    "\n",
    "        train_task = kubernetes.use_secret_as_env(\n",
    "            train_task,\n",
    "            secret_name=\"aws-secret\",\n",
    "            secret_key_to_env={\n",
    "                \"AWS_ACCESS_KEY_ID\": \"AWS_ACCESS_KEY_ID\",\n",
    "                \"AWS_SECRET_ACCESS_KEY\": \"AWS_SECRET_ACCESS_KEY\",\n",
    "            },\n",
    "        )\n",
    "\n",
    "        deploy_model(model_name=model_name,storage_uri=train_task.output)\n",
    "    ### END CODE HERE"
   ]
  },
  {
   "cell_type": "markdown",
   "metadata": {
    "deletable": false,
    "editable": false,
    "nbgrader": {
     "cell_type": "markdown",
     "checksum": "0492c82726e60ae3c756b3d46728994c",
     "grade": false,
     "grade_id": "cell-1ddc880ca13286f6",
     "locked": true,
     "schema_version": 3,
     "solution": false,
     "task": false
    }
   },
   "source": [
    "## Submit a KFP run\n",
    "After defining your KFP pipeline, you can test it by triggering a KFP run of your KFP pipeline. "
   ]
  },
  {
   "cell_type": "code",
   "execution_count": 4,
   "metadata": {
    "deletable": false,
    "editable": false,
    "nbgrader": {
     "cell_type": "code",
     "checksum": "c470dabb8e4cbf574def6f2e8993580c",
     "grade": false,
     "grade_id": "cell-734e3549988ddc10",
     "locked": true,
     "schema_version": 3,
     "solution": false,
     "task": false
    }
   },
   "outputs": [],
   "source": [
    "# Specify pipeline argument values\n",
    "\n",
    "# A loose threshold to guarantee that the MAE resulted from HPO can pass the KFP condition check\n",
    "loose_mae_threshold = 81\n",
    "\n",
    "# A strict threshold to guarantee that the MAE resulted fro HPO can't pass the KFP condition check\n",
    "strict_mae_threshold = 0.1\n",
    "\n",
    "url = \"https://raw.githubusercontent.com/yumoL/mlops_eng_course_datasets/master/intro/bike-demanding/train_full.csv\"\n",
    "\n",
    "arguments = {\n",
    "    \"url\": url,\n",
    "    \"random_seed\": 42,\n",
    "    \"hpo_trials\": 81,\n",
    "    \"mae_threshold\": loose_mae_threshold,\n",
    "    \"mlflow_tracking_uri\": \"http://mlflow.mlflow.svc.cluster.local:5000\",\n",
    "    \"mlflow_s3_endpoint_url\": \"http://mlflow-minio-service.mlflow.svc.cluster.local:9000\",\n",
    "    \"mlflow_experiment_name\": \"bike-notebook\",\n",
    "    \"model_name\": \"bike-demand\",\n",
    "}"
   ]
  },
  {
   "cell_type": "code",
   "execution_count": 5,
   "metadata": {
    "deletable": false,
    "editable": false,
    "nbgrader": {
     "cell_type": "code",
     "checksum": "bf712993a20072184cce6699f443fce7",
     "grade": false,
     "grade_id": "cell-a025f35c09bac650",
     "locked": true,
     "schema_version": 3,
     "solution": false,
     "task": false
    }
   },
   "outputs": [
    {
     "data": {
      "text/html": [
       "<a href=\"/pipeline/#/experiments/details/2aea6fb6-cc6d-4a84-8468-1398c8446274\" target=\"_blank\" >Experiment details</a>."
      ],
      "text/plain": [
       "<IPython.core.display.HTML object>"
      ]
     },
     "metadata": {},
     "output_type": "display_data"
    },
    {
     "data": {
      "text/html": [
       "<a href=\"/pipeline/#/runs/details/b143ace0-d653-44b9-916c-727efbd2bf27\" target=\"_blank\" >Run details</a>."
      ],
      "text/plain": [
       "<IPython.core.display.HTML object>"
      ]
     },
     "metadata": {},
     "output_type": "display_data"
    },
    {
     "data": {
      "text/plain": [
       "RunPipelineResult(run_id=b143ace0-d653-44b9-916c-727efbd2bf27)"
      ]
     },
     "execution_count": 5,
     "metadata": {},
     "output_type": "execute_result"
    }
   ],
   "source": [
    "run_name = \"bike-run\"\n",
    "kfp_experiment_name = \"bike-experiment\"\n",
    "\n",
    "kfp_client.create_run_from_pipeline_func(\n",
    "    pipeline_func=pipeline,\n",
    "    run_name=run_name,\n",
    "    experiment_name=kfp_experiment_name,\n",
    "    arguments=arguments,\n",
    "    enable_caching=False\n",
    ")"
   ]
  },
  {
   "cell_type": "markdown",
   "metadata": {
    "deletable": false,
    "editable": false,
    "jp-MarkdownHeadingCollapsed": true,
    "nbgrader": {
     "cell_type": "markdown",
     "checksum": "90e338e39e5092bf7bdaf08449198558",
     "grade": false,
     "grade_id": "cell-a1afe8fbaedf9b62",
     "locked": true,
     "schema_version": 3,
     "solution": false,
     "task": false
    }
   },
   "source": [
    "You can now go to [http://ml-pipeline-ui.local](http://ml-pipeline-ui.local) to check the running state of the KFP run. You can also go to [http://mlflow-server.local](http://mlflow-server.local) to check the created MLflow experiment and the registered model.\n",
    "\n",
    "When the KFP run is completed, you should see the following:\n",
    "\n",
    "The KFP run is completed successfully\n",
    "<details>\n",
    "    <summary>Example</summary>\n",
    "    <img src=\"./images/kfp-run-complete.png\" width=1000/>\n",
    "</details>\n",
    "\n",
    "<br />\n",
    "Clicking on the \"condition-1\" tab you should also see the \"train\" and \"deploy_model\" components are executed.\n",
    "<details>\n",
    "    <summary>Example</summary>\n",
    "    <img src=\"./images/kfp-run-complete2.png\" width=1000/>\n",
    "</details>\n",
    "\n",
    "<br />\n",
    "An MLflow Run is logged, including the logged hyperparameters and evaluation metrics.\n",
    "\n",
    "<details>\n",
    "    <summary>Example</summary>\n",
    "    <img src=\"./images/mlflow-log.png\" width=1000/>\n",
    "</details>\n",
    "\n",
    "<br />\n",
    "A model corresponding to the MLflow Run is uploaded.\n",
    "\n",
    "<details>\n",
    "    <summary>Example</summary>\n",
    "    <img src=\"./images/mlflow-model.png\" width=1000/>\n",
    "</details>\n",
    "\n",
    "#### Capture screenshots\n",
    "Please capture the following screenshots and put them into your PDF file:\n",
    "\n",
    "1) The Kubeflow Pipelines UI of a succeeded KFP run of this KFP pipeline.\n",
    "\n",
    "2) The MLflow UI of the created MLflow experiment, including the logged hyperparameters and evaluation metrics.\n",
    "\n",
    "3) The MLflow UI of the registered model.\n",
    "\n",
    "These screenshots should be similar to those given in the examples.  \n",
    "\n",
    "#### A hint for debugging\n",
    "\n",
    "Your KFP run may fail to complete because of some components' bugs. You can further investigate the problems by looking into the component logs:\n",
    "(The screenshot was captured from an older version of KFP, the UI looks different in the current version. But the idea is the same.)\n",
    "\n",
    "![](./images/kfp-debug.jpg)"
   ]
  },
  {
   "cell_type": "markdown",
   "metadata": {
    "deletable": false,
    "editable": false,
    "nbgrader": {
     "cell_type": "markdown",
     "checksum": "d12f6845ebf977d6bfc977d2c71ef877",
     "grade": false,
     "grade_id": "cell-7c94a5c2440ba3b5",
     "locked": true,
     "schema_version": 3,
     "solution": false,
     "task": false
    }
   },
   "source": [
    "## Testing the inference service\n",
    "After the KFP run in completed, let's ensure that it's ready."
   ]
  },
  {
   "cell_type": "code",
   "execution_count": 6,
   "metadata": {
    "deletable": false,
    "editable": false,
    "nbgrader": {
     "cell_type": "code",
     "checksum": "4fd699a3436d351169e82ac87d57d3a0",
     "grade": false,
     "grade_id": "cell-9421ef279e15be4a",
     "locked": true,
     "schema_version": 3,
     "solution": false,
     "task": false
    }
   },
   "outputs": [
    {
     "name": "stdout",
     "output_type": "stream",
     "text": [
      "NAME          URL                                               READY   PREV   LATEST   PREVROLLEDOUTREVISION   LATESTREADYREVISION           AGE\n",
      "bike-demand   http://bike-demand.kserve-inference.example.com   True           100                              bike-demand-predictor-00003   3d14h\n"
     ]
    }
   ],
   "source": [
    "# The inference service should be immediately read when the KFP Run is completed\n",
    "!kubectl -n kserve-inference get isvc bike-demand"
   ]
  },
  {
   "cell_type": "code",
   "execution_count": 7,
   "metadata": {
    "deletable": false,
    "editable": false,
    "nbgrader": {
     "cell_type": "code",
     "checksum": "c001b3c7491e623317a06b9df2d73f0c",
     "grade": false,
     "grade_id": "cell-6a49b0b4fdc85d23",
     "locked": true,
     "schema_version": 3,
     "solution": false,
     "task": false
    }
   },
   "outputs": [
    {
     "name": "stdout",
     "output_type": "stream",
     "text": [
      "{'model_name': 'bike-demand', 'id': '34882bd8-9107-43bf-a2ce-2a432f0e5b43', 'parameters': {}, 'outputs': [{'name': 'output-1', 'shape': [2, 1], 'datatype': 'FP64', 'data': [50.96589635634141, 34.33429439127524]}]}\n"
     ]
    }
   ],
   "source": [
    "#  Send a request to the inference service\n",
    "res = send_requests(isvc_name=\"bike-demand\")\n",
    "assert res.status_code == 200, \"The inference service is not ready.\"\n",
    "assert res.json()[\"outputs\"][0][\"shape\"] == [2, 1], \"The shape of the prediction is incorrect.\"\n",
    "print(res.json())"
   ]
  },
  {
   "cell_type": "markdown",
   "metadata": {
    "deletable": false,
    "editable": false,
    "nbgrader": {
     "cell_type": "markdown",
     "checksum": "477dca51d2502a49871c719daecdf913",
     "grade": false,
     "grade_id": "cell-cd96cfbee79f8576",
     "locked": true,
     "schema_version": 3,
     "solution": false,
     "task": false
    }
   },
   "source": [
    "Example output:\n",
    "```text\n",
    "{'model_name': 'bike-demand',\n",
    " 'id': 'e85caa5a-3ebb-4b8d-a554-06d5d76ce462',\n",
    " 'parameters': {},\n",
    " 'outputs': [{'name': 'output-1',\n",
    "   'shape': [2, 1],\n",
    "   'datatype': 'FP64',\n",
    "   'data': [35.894812901164, 31.72387585260099]}]}\n",
    "```"
   ]
  },
  {
   "cell_type": "code",
   "execution_count": 8,
   "metadata": {
    "deletable": false,
    "editable": false,
    "nbgrader": {
     "cell_type": "code",
     "checksum": "c3294cff6812d157e084725e7f6e64c4",
     "grade": false,
     "grade_id": "cell-3a62646e042bd092",
     "locked": true,
     "schema_version": 3,
     "solution": false,
     "task": false
    }
   },
   "outputs": [
    {
     "name": "stdout",
     "output_type": "stream",
     "text": [
      "inferenceservice.serving.kserve.io \"bike-demand\" deleted\n"
     ]
    }
   ],
   "source": [
    "# Delete the inference service\n",
    "!kubectl -n kserve-inference delete isvc bike-demand"
   ]
  },
  {
   "cell_type": "markdown",
   "metadata": {
    "deletable": false,
    "editable": false,
    "nbgrader": {
     "cell_type": "markdown",
     "checksum": "d6980b028bf960908f14b9729524ab57",
     "grade": false,
     "grade_id": "cell-4793fbf3b5e638ad",
     "locked": true,
     "schema_version": 3,
     "solution": false,
     "task": false
    }
   },
   "source": [
    "## Another run of the pipeline\n",
    "Now let's use the \"strict_mae_threshold\" as the threshold metric and start another KFP run of your KFP pipeline. This time the KFP run will skip the \"train\" and \"deploy_model\" tasks because the best MAE found by the HPO component is larger than the strict threshold.\n",
    "<details>\n",
    "    <summary>Example</summary>\n",
    "    <img src=\"./images/kfp-run-skip-train-and-deploy.png\" width=1100/>\n",
    "</details>\n",
    "\n",
    "<br />\n",
    "Clicking the \"condition-1\" tab you should see the \"train\" and \"deploy_model\" components are skipped.\n",
    "<details>\n",
    "    <summary>Example</summary>\n",
    "    <img src=\"./images/kfp-run-skip-train-and-deploy2.png\" width=1100/>\n",
    "</details>"
   ]
  },
  {
   "cell_type": "code",
   "execution_count": 9,
   "metadata": {
    "deletable": false,
    "editable": false,
    "nbgrader": {
     "cell_type": "code",
     "checksum": "b90b9823e4cd48c475f2afbb2ecee0e4",
     "grade": false,
     "grade_id": "cell-af4f8a9e26bc7702",
     "locked": true,
     "schema_version": 3,
     "solution": false,
     "task": false
    }
   },
   "outputs": [
    {
     "data": {
      "text/html": [
       "<a href=\"/pipeline/#/experiments/details/2aea6fb6-cc6d-4a84-8468-1398c8446274\" target=\"_blank\" >Experiment details</a>."
      ],
      "text/plain": [
       "<IPython.core.display.HTML object>"
      ]
     },
     "metadata": {},
     "output_type": "display_data"
    },
    {
     "data": {
      "text/html": [
       "<a href=\"/pipeline/#/runs/details/0f86e7a5-0b8b-4e72-b61b-7b49d44264d4\" target=\"_blank\" >Run details</a>."
      ],
      "text/plain": [
       "<IPython.core.display.HTML object>"
      ]
     },
     "metadata": {},
     "output_type": "display_data"
    },
    {
     "data": {
      "text/plain": [
       "RunPipelineResult(run_id=0f86e7a5-0b8b-4e72-b61b-7b49d44264d4)"
      ]
     },
     "execution_count": 9,
     "metadata": {},
     "output_type": "execute_result"
    }
   ],
   "source": [
    "arguments[\"mae_threshold\"] = strict_mae_threshold\n",
    "\n",
    "run_name = \"bike-run-incomplete\"\n",
    "\n",
    "kfp_client.create_run_from_pipeline_func(\n",
    "    pipeline_func=pipeline,\n",
    "    run_name=run_name,\n",
    "    experiment_name=kfp_experiment_name,\n",
    "    arguments=arguments,\n",
    "    enable_caching=False\n",
    ")"
   ]
  },
  {
   "cell_type": "markdown",
   "metadata": {
    "deletable": false,
    "editable": false,
    "nbgrader": {
     "cell_type": "markdown",
     "checksum": "8e47b13e794396431b2d707b2622b5be",
     "grade": false,
     "grade_id": "cell-26b88f9567e8e1ae",
     "locked": true,
     "schema_version": 3,
     "solution": false,
     "task": false
    }
   },
   "source": [
    "#### Capture screenshots\n",
    "Like the examples, please **capture screenshots** of the KFP run where the deployment task is skipped and put this screenshot into your PDF file.\n",
    "\n",
    "Finally, let's compile the KFP pipeline and save it to a YAML file `pipeline.yaml`. The file should be located in the same directory as this notebook."
   ]
  },
  {
   "cell_type": "code",
   "execution_count": 10,
   "metadata": {
    "deletable": false,
    "editable": false,
    "nbgrader": {
     "cell_type": "code",
     "checksum": "4088a55572278a5d86d68fb613010b0e",
     "grade": false,
     "grade_id": "cell-0261ea84c121d733",
     "locked": true,
     "schema_version": 3,
     "solution": false,
     "task": false
    }
   },
   "outputs": [],
   "source": [
    "compiler = kfp.compiler.Compiler()\n",
    "compiler.compile(pipeline, \"pipeline.yaml\")"
   ]
  },
  {
   "cell_type": "markdown",
   "metadata": {
    "deletable": false,
    "editable": false,
    "nbgrader": {
     "cell_type": "markdown",
     "checksum": "706fdddf12fee8146c7efc52730a00ba",
     "grade": false,
     "grade_id": "cell-cd4b12177fa28e24",
     "locked": true,
     "schema_version": 3,
     "solution": false,
     "task": false
    }
   },
   "source": [
    "### Wrap-up\n",
    "Please include the following files in your submission:\n",
    "- The assignment notebooks (`week5_assignments_part1.ipynb` and `week5_assignments_part2.ipynb`)\n",
    "- The YAML file of your KFP pipeline `pipeline.yaml`.\n",
    "- The PDF containing the screenshots for Assignment 2. "
   ]
  }
 ],
 "metadata": {
  "kernelspec": {
   "display_name": "mlops_eng2",
   "language": "python",
   "name": "python3"
  },
  "language_info": {
   "codemirror_mode": {
    "name": "ipython",
    "version": 3
   },
   "file_extension": ".py",
   "mimetype": "text/x-python",
   "name": "python",
   "nbconvert_exporter": "python",
   "pygments_lexer": "ipython3",
   "version": "3.11.7"
  }
 },
 "nbformat": 4,
 "nbformat_minor": 4
}
